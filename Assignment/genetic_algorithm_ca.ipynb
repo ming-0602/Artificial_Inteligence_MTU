{
  "cells": [
    {
      "metadata": {
        "id": "d3a4c46f18de42f1"
      },
      "cell_type": "code",
      "outputs": [],
      "execution_count": 226,
      "source": [
        "import networkx as nx\n",
        "import random\n",
        "import matplotlib.pyplot as plt\n",
        "import pandas as pd"
      ],
      "id": "d3a4c46f18de42f1"
    },
    {
      "cell_type": "markdown",
      "source": [
        "\n",
        "#  PROBLEM DEFINITION\n",
        "\n",
        "## Description of the Problem\n",
        "\n",
        "Traffic congestion is a major issue in urban areas, leading to delays, increased fuel consumption, and pollution. Traditional traffic light timing systems often use fixed schedules that do not adapt to real-time traffic conditions. This project aims to optimize traffic light timings using a Genetic Algorithm (GA) to minimize traffic stops and travel time while improving the overall flow of vehicles.\n",
        "\n",
        "## Suitability of Genetic Algorithms\n",
        "\n",
        "Genetic Algorithms (GAs) are particularly suited for this problem because:\n",
        "- **Large Search Space:** There are many possible combinations of traffic light timings, making brute force impractical.\n",
        "- **Optimization Potential:** GA can efficiently explore and exploit traffic light configurations to find near-optimal solutions.\n",
        "- **Adaptability:** Unlike rule-based systems, GA can adapt to different road network structures.\n",
        "- **Parallelism:** Multiple solutions can evolve simultaneously, allowing diverse optimization approaches.\n",
        "\n",
        "## Complexity of the Problem\n",
        "- **Computational Complexity:** The problem involves multiple variables (green, yellow, and red_stop timings), making it computationally intensive.\n",
        "- **Constraint Handling:** Opposite traffic lights need to be synchronized, adding additional constraints.\n",
        "- **Simulation Requirements:** Evaluating fitness requires simulating multiple vehicles, which can be time-consuming.\n"
      ],
      "metadata": {
        "id": "JENwliMBowRG"
      },
      "id": "JENwliMBowRG"
    },
    {
      "cell_type": "markdown",
      "source": [
        "# Build Road Network"
      ],
      "metadata": {
        "id": "2jCZ7_iT0GHx"
      },
      "id": "2jCZ7_iT0GHx"
    },
    {
      "cell_type": "markdown",
      "source": [
        "## Road Network"
      ],
      "metadata": {
        "id": "qF6oW0cK0VNS"
      },
      "id": "qF6oW0cK0VNS"
    },
    {
      "metadata": {
        "id": "eb4fc23bc1d0a7e4"
      },
      "cell_type": "code",
      "outputs": [],
      "execution_count": 227,
      "source": [
        "NUM_NODES = 10  # Number of intersections\n",
        "road_network = nx.random_geometric_graph(NUM_NODES, 0.3)\n",
        "\n",
        "road_distances = {}\n",
        "road_speeds = {}\n",
        "\n",
        "for (start, end) in road_network.edges():\n",
        "    distance = random.randint(200, 1000)  # Distance in meters\n",
        "    speed = random.choice([11.11, 13.89, 16.67])  # 40 km/h, 50 km/h, 60 km/h in m/s\n",
        "\n",
        "    road_distances[(start, end)] = distance\n",
        "    road_distances[(end, start)] = distance\n",
        "    road_speeds[(start, end)] = speed\n",
        "    road_speeds[(end, start)] = speed"
      ],
      "id": "eb4fc23bc1d0a7e4"
    },
    {
      "cell_type": "code",
      "source": [
        "def ensure_fully_connected(road_network):\n",
        "    components = list(nx.connected_components(road_network))\n",
        "    if len(components) > 1:\n",
        "        print(f\"Graph has {len(components)} disconnected components. Connecting them...\")\n",
        "        for i in range(len(components) - 1):\n",
        "            node_a = random.choice(list(components[i]))\n",
        "            node_b = random.choice(list(components[i + 1]))\n",
        "            road_network.add_edge(node_a, node_b)\n",
        "            road_distances[(node_a, node_b)] = random.randint(200, 1000)\n",
        "            road_distances[(node_b, node_a)] = road_distances[(node_a, node_b)]\n",
        "            road_speeds[(node_a, node_b)] = random.choice([11.11, 13.89, 16.67])\n",
        "            road_speeds[(node_b, node_a)] = road_speeds[(node_a, node_b)]\n",
        "    return road_network\n",
        "\n",
        "road_network = ensure_fully_connected(road_network)"
      ],
      "metadata": {
        "id": "cDJYqAosqu0e",
        "outputId": "f4dee7f2-a7fa-4762-e59b-7960c6eb5f4d",
        "colab": {
          "base_uri": "https://localhost:8080/"
        }
      },
      "id": "cDJYqAosqu0e",
      "execution_count": 228,
      "outputs": [
        {
          "output_type": "stream",
          "name": "stdout",
          "text": [
            "Graph has 4 disconnected components. Connecting them...\n"
          ]
        }
      ]
    },
    {
      "cell_type": "markdown",
      "source": [
        "## Find the Opposite Traffic Lights"
      ],
      "metadata": {
        "id": "W1TL7fUapC7d"
      },
      "id": "W1TL7fUapC7d"
    },
    {
      "cell_type": "code",
      "source": [
        "def find_opposite_lights(road_network):\n",
        "    opposite_lights = {}\n",
        "    for node in road_network.nodes():\n",
        "        neighbors = list(road_network.neighbors(node))\n",
        "        if len(neighbors) < 2:\n",
        "            continue\n",
        "        sorted_neighbors = sorted(neighbors, key=lambda x: road_distances.get((node, x), 9999))\n",
        "        for i in range(len(sorted_neighbors) - 1):\n",
        "            opposite_lights[sorted_neighbors[i]] = sorted_neighbors[i + 1]\n",
        "            opposite_lights[sorted_neighbors[i + 1]] = sorted_neighbors[i]\n",
        "    return opposite_lights\n",
        "\n",
        "opposite_lights = find_opposite_lights(road_network)"
      ],
      "metadata": {
        "id": "NkvnfWpkqBj3"
      },
      "id": "NkvnfWpkqBj3",
      "execution_count": 229,
      "outputs": []
    },
    {
      "cell_type": "markdown",
      "source": [
        "# Traffic Light Class (Individual)\n",
        "\n",
        "## Individual Representation\n",
        "Each **individual** in the Genetic Algorithm represents a **complete traffic light configuration** for all intersections in the road network.\n",
        "\n",
        "- **Chromosome:** A single traffic light configuration for all intersections in the road network.\n",
        "- **Genes:** Each traffic light is considered a gene within the chromosome and has the following attributes:\n",
        "  - **Green Time:** Duration for which the light remains green.\n",
        "  - **Yellow Time:** Duration for the yellow transition light.\n",
        "  - **Red_Stop Time:** Buffer time before switching to green to prevent crashes.\n",
        "  - **Red Time:** The duration the light remains red, which depends on the opposite traffic light.\n",
        "- **Population:** A set of multiple traffic light configurations (chromosomes) that evolve over generations to find the best solution."
      ],
      "metadata": {
        "id": "ISbvgRTlqGM8"
      },
      "id": "ISbvgRTlqGM8"
    },
    {
      "cell_type": "code",
      "source": [
        "class TrafficLightNode:\n",
        "    def __init__(self, node_id):\n",
        "        self.node_id = node_id\n",
        "        self.green = random.randint(20, 60)\n",
        "        self.yellow = random.randint(3, 8)\n",
        "        self.red_stop = random.randint(3, 5)\n",
        "        self.red_time = 0\n",
        "\n",
        "    def mutate(self, mutation_rate=0.1):\n",
        "        if random.random() < mutation_rate:\n",
        "            self.green = max(5, self.green + random.randint(-5, 5))\n",
        "        if random.random() < mutation_rate:\n",
        "            self.yellow = max(2, self.yellow + random.randint(-1, 1))\n",
        "        if random.random() < mutation_rate:\n",
        "            self.red_stop = max(2, self.red_stop + random.randint(-2, 2))"
      ],
      "metadata": {
        "id": "ArIy4yHHpBk6"
      },
      "id": "ArIy4yHHpBk6",
      "execution_count": 230,
      "outputs": []
    },
    {
      "cell_type": "markdown",
      "source": [
        "\n",
        "# Adjust Red Time base on opposite lights"
      ],
      "metadata": {
        "id": "BlKnivLYpSE_"
      },
      "id": "BlKnivLYpSE_"
    },
    {
      "cell_type": "code",
      "source": [
        "def adjust_red_timings(chromosome, opposite_lights):\n",
        "    for node_id, traffic_light in chromosome.items():\n",
        "        if node_id in opposite_lights:\n",
        "            opposite_id = opposite_lights[node_id]\n",
        "            opposite_light = chromosome.get(opposite_id)\n",
        "            if opposite_light:\n",
        "                traffic_light.red_stop = random.randint(3, 5)\n",
        "                traffic_light.red_time = opposite_light.green + opposite_light.yellow + opposite_light.red_stop"
      ],
      "metadata": {
        "id": "Rp15uSyRpRAO"
      },
      "id": "Rp15uSyRpRAO",
      "execution_count": 231,
      "outputs": []
    },
    {
      "cell_type": "markdown",
      "source": [
        "# Cross Over\n",
        "\n",
        "- **Uniform Crossover:** Traffic light attributes (green, yellow, red_stop) are randomly chosen from two parent solutions to create a new child configuration.\n",
        "- Helps mix good timing patterns from different configurations to improve performance."
      ],
      "metadata": {
        "id": "EMcMQhP-zEDL"
      },
      "id": "EMcMQhP-zEDL"
    },
    {
      "cell_type": "code",
      "source": [
        "def crossover(parent1, parent2):\n",
        "    \"\"\"Combines two parent traffic light configurations to create a new child.\"\"\"\n",
        "    child = {}\n",
        "    for node_id in parent1:\n",
        "        if random.random() < 0.5:\n",
        "            child[node_id] = TrafficLightNode(node_id)\n",
        "            child[node_id].green = parent1[node_id].green\n",
        "            child[node_id].yellow = parent1[node_id].yellow\n",
        "            child[node_id].red_stop = parent1[node_id].red_stop\n",
        "        else:\n",
        "            child[node_id] = TrafficLightNode(node_id)\n",
        "            child[node_id].green = parent2[node_id].green\n",
        "            child[node_id].yellow = parent2[node_id].yellow\n",
        "            child[node_id].red_stop = parent2[node_id].red_stop\n",
        "    return child"
      ],
      "metadata": {
        "id": "ntWa3DbxzDZf"
      },
      "id": "ntWa3DbxzDZf",
      "execution_count": 232,
      "outputs": []
    },
    {
      "cell_type": "markdown",
      "source": [
        "# Cost Function: Measuring Optimization Performance\n",
        "The cost function evaluates how well a given traffic light configuration performs in terms of **minimizing travel time, reducing stops, and improving green wave efficiency.\n",
        "\n",
        "#### **How It Works**:\n",
        "1. **Simulating Traffic Flow**: Vehicles are randomly assigned start and destination points.\n",
        "2. **Shortest Path Calculation**: Vehicles follow the shortest path between intersections.\n",
        "3. **Traffic Light Evaluation**:\n",
        "   - If a vehicle arrives at a red light, it must stop and wait.\n",
        "   - If a vehicle arrives at a green light, it continues without stopping.\n",
        "4. **Metrics Used to Evaluate Performance**:\n",
        "   - **Total Stops:** Lower stops indicate a better solution.\n",
        "   - **Total Travel Time:** Lower travel time means more efficient traffic flow.\n",
        "   - **Green Wave Efficiency:** Percentage of cars that pass without stopping.\n",
        "\n",
        "#### **Formula for the Fitness Score**:\n",
        "\\[\n",
        "\\text{Fitness Score} = \\frac{1}{\\text{Total Travel Time} + \\text{Total Stops} + 1e-6}\n",
        "\\]\n",
        "- Higher fitness means a more optimized traffic system.\n",
        "\n",
        "#### **Formula for Green Wave Efficiency**:\n",
        "\\[\n",
        "\\text{Green Wave Efficiency} = \\frac{\\text{Total Cars That Passed Green}}{\\text{Total Cars Moving}} \\times 100\\%\n",
        "\\]\n",
        "- Higher Green Wave Efficiency indicates a smoother traffic flow with fewer stops.\n"
      ],
      "metadata": {
        "id": "-vjbozbFpg7M"
      },
      "id": "-vjbozbFpg7M"
    },
    {
      "cell_type": "code",
      "source": [
        "def network_fitness_function(chromosome, num_vehicles=500):\n",
        "    total_stops = 0\n",
        "    total_travel_time = 0\n",
        "    successful_green_passes = 0\n",
        "\n",
        "    for _ in range(num_vehicles):\n",
        "        start = random.randint(0, NUM_NODES - 1)\n",
        "        end = random.randint(0, NUM_NODES - 1)\n",
        "        if start == end:\n",
        "            continue\n",
        "\n",
        "        try:\n",
        "            path = nx.shortest_path(road_network, source=start, target=end)\n",
        "        except nx.NetworkXNoPath:\n",
        "            continue\n",
        "\n",
        "        stops = 0\n",
        "        travel_time = 0\n",
        "        for i in range(len(path) - 1):\n",
        "            current_node = path[i]\n",
        "            next_node = path[i + 1]\n",
        "            time_to_next = road_distances.get((current_node, next_node), 500) / road_speeds.get((current_node, next_node), 13.89)\n",
        "            next_light = chromosome[next_node]\n",
        "            if time_to_next > next_light.green:\n",
        "                stops += 1\n",
        "                travel_time += next_light.red_time\n",
        "            else:\n",
        "                successful_green_passes += 1\n",
        "            travel_time += time_to_next\n",
        "\n",
        "        total_stops += stops\n",
        "        total_travel_time += travel_time\n",
        "\n",
        "    avg_stops = total_stops / max(num_vehicles, 1)\n",
        "    avg_travel_time = total_travel_time / max(num_vehicles, 1)\n",
        "    green_wave_efficiency = (successful_green_passes / max(num_vehicles * (NUM_NODES - 1), 1)) * 100\n",
        "\n",
        "    return 1 / (avg_travel_time + avg_stops + 1e-6), green_wave_efficiency"
      ],
      "metadata": {
        "id": "YqltFuygpjvO"
      },
      "id": "YqltFuygpjvO",
      "execution_count": 237,
      "outputs": []
    },
    {
      "cell_type": "markdown",
      "source": [
        "# Genetic Algorithm"
      ],
      "metadata": {
        "id": "jxMQCAQXpnFY"
      },
      "id": "jxMQCAQXpnFY"
    },
    {
      "cell_type": "code",
      "source": [
        "def plot_fitness_evolution(fitness_history, green_wave_history):\n",
        "    generations = list(range(len(fitness_history)))\n",
        "    plt.figure(figsize=(10, 5))\n",
        "    plt.plot(generations, fitness_history, marker='o', label=\"Fitness Score\", linestyle='-')\n",
        "    plt.plot(generations, green_wave_history, marker='s', label=\"Green Wave Efficiency (%)\", linestyle='--')\n",
        "    plt.xlabel(\"Generations\")\n",
        "    plt.ylabel(\"Performance\")\n",
        "    plt.title(\"Traffic Light Optimization: Fitness and Green Wave Efficiency\")\n",
        "    plt.legend()\n",
        "    plt.show()"
      ],
      "metadata": {
        "id": "Lf3YzOhqtZvZ"
      },
      "id": "Lf3YzOhqtZvZ",
      "execution_count": 234,
      "outputs": []
    },
    {
      "cell_type": "code",
      "source": [
        "def genetic_algorithm(population_size, generations):\n",
        "    population = [{i: TrafficLightNode(i) for i in range(NUM_NODES)} for _ in range(population_size)]\n",
        "    fitness_history = []\n",
        "    green_wave_history = []\n",
        "    best_chromosome = None\n",
        "\n",
        "    for generation in range(generations):\n",
        "        for chromosome in population:\n",
        "            adjust_red_timings(chromosome, opposite_lights)\n",
        "\n",
        "        fitness_scores = [(network_fitness_function(chromosome), chromosome) for chromosome in population]\n",
        "        fitness_scores.sort(key=lambda x: x[0][0], reverse=True)\n",
        "\n",
        "        best_fitness, best_green_wave = fitness_scores[0][0]\n",
        "        best_chromosome = fitness_scores[0][1]\n",
        "        fitness_history.append(best_fitness)\n",
        "        green_wave_history.append(best_green_wave)\n",
        "\n",
        "        print(f\"Generation {generation}: Best Fitness = {best_fitness:.5f}, Green Wave Efficiency = {best_green_wave:.2f}%\")\n",
        "\n",
        "        # Select top 2 parents\n",
        "        parent1, parent2 = fitness_scores[0][1], fitness_scores[1][1]\n",
        "\n",
        "        # Generate new population using crossover\n",
        "        new_population = [crossover(parent1, parent2) for _ in range(population_size)]\n",
        "\n",
        "        # Apply mutation\n",
        "        for child in new_population:\n",
        "            for light in child.values():\n",
        "                light.mutate()\n",
        "\n",
        "        population = new_population\n",
        "\n",
        "    plot_fitness_evolution(fitness_history, green_wave_history)\n",
        "    return best_chromosome\n"
      ],
      "metadata": {
        "id": "DxvPoeASppCs"
      },
      "id": "DxvPoeASppCs",
      "execution_count": 235,
      "outputs": []
    },
    {
      "cell_type": "markdown",
      "source": [
        "# RUN ALGORITHM"
      ],
      "metadata": {
        "id": "beehF6IRptE4"
      },
      "id": "beehF6IRptE4"
    },
    {
      "cell_type": "markdown",
      "source": [
        "# Plot Fitness Evolution"
      ],
      "metadata": {
        "id": "hvrYD-sMulta"
      },
      "id": "hvrYD-sMulta"
    },
    {
      "cell_type": "code",
      "source": [
        "best_solution = genetic_algorithm(population_size=10, generations=50)\n",
        "\n",
        "if isinstance(best_solution, dict):\n",
        "    for node_id, traffic_light in best_solution.items():\n",
        "        print(f\"Junction {node_id} → Green: {traffic_light.green}s, Yellow: {traffic_light.yellow}s, Red_Stop: {traffic_light.red_stop}s, Red Time: {traffic_light.red_time}s\")\n",
        "else:\n",
        "    print(\"Error: Best solution is not a valid chromosome dictionary.\")\n"
      ],
      "metadata": {
        "id": "Pe2VQeuxpsA0",
        "outputId": "668383b5-ffe4-465b-f92e-10edd3904a5b",
        "colab": {
          "base_uri": "https://localhost:8080/",
          "height": 1000
        }
      },
      "id": "Pe2VQeuxpsA0",
      "execution_count": 236,
      "outputs": [
        {
          "output_type": "stream",
          "name": "stdout",
          "text": [
            "Generation 0: Best Fitness = 0.00709, Green Wave Efficiency = 14.71%\n",
            "Generation 1: Best Fitness = 0.00706, Green Wave Efficiency = 16.80%\n",
            "Generation 2: Best Fitness = 0.00711, Green Wave Efficiency = 17.11%\n",
            "Generation 3: Best Fitness = 0.00731, Green Wave Efficiency = 17.71%\n",
            "Generation 4: Best Fitness = 0.00760, Green Wave Efficiency = 17.29%\n",
            "Generation 5: Best Fitness = 0.00778, Green Wave Efficiency = 17.64%\n",
            "Generation 6: Best Fitness = 0.00747, Green Wave Efficiency = 17.53%\n",
            "Generation 7: Best Fitness = 0.00803, Green Wave Efficiency = 16.38%\n",
            "Generation 8: Best Fitness = 0.00756, Green Wave Efficiency = 18.22%\n",
            "Generation 9: Best Fitness = 0.00782, Green Wave Efficiency = 18.11%\n",
            "Generation 10: Best Fitness = 0.00790, Green Wave Efficiency = 17.40%\n",
            "Generation 11: Best Fitness = 0.00759, Green Wave Efficiency = 17.87%\n",
            "Generation 12: Best Fitness = 0.00790, Green Wave Efficiency = 17.13%\n",
            "Generation 13: Best Fitness = 0.00805, Green Wave Efficiency = 17.38%\n",
            "Generation 14: Best Fitness = 0.00762, Green Wave Efficiency = 18.36%\n",
            "Generation 15: Best Fitness = 0.00784, Green Wave Efficiency = 17.82%\n",
            "Generation 16: Best Fitness = 0.00811, Green Wave Efficiency = 17.71%\n",
            "Generation 17: Best Fitness = 0.00750, Green Wave Efficiency = 18.49%\n",
            "Generation 18: Best Fitness = 0.00757, Green Wave Efficiency = 18.42%\n",
            "Generation 19: Best Fitness = 0.00789, Green Wave Efficiency = 17.80%\n",
            "Generation 20: Best Fitness = 0.00774, Green Wave Efficiency = 17.69%\n",
            "Generation 21: Best Fitness = 0.00767, Green Wave Efficiency = 18.22%\n",
            "Generation 22: Best Fitness = 0.00819, Green Wave Efficiency = 17.00%\n",
            "Generation 23: Best Fitness = 0.00792, Green Wave Efficiency = 17.02%\n",
            "Generation 24: Best Fitness = 0.00772, Green Wave Efficiency = 17.73%\n",
            "Generation 25: Best Fitness = 0.00763, Green Wave Efficiency = 18.24%\n",
            "Generation 26: Best Fitness = 0.00769, Green Wave Efficiency = 17.62%\n",
            "Generation 27: Best Fitness = 0.00770, Green Wave Efficiency = 18.16%\n",
            "Generation 28: Best Fitness = 0.00776, Green Wave Efficiency = 17.89%\n",
            "Generation 29: Best Fitness = 0.00781, Green Wave Efficiency = 18.29%\n",
            "Generation 30: Best Fitness = 0.00795, Green Wave Efficiency = 18.07%\n",
            "Generation 31: Best Fitness = 0.00756, Green Wave Efficiency = 18.24%\n",
            "Generation 32: Best Fitness = 0.00770, Green Wave Efficiency = 18.07%\n",
            "Generation 33: Best Fitness = 0.00780, Green Wave Efficiency = 17.04%\n",
            "Generation 34: Best Fitness = 0.00782, Green Wave Efficiency = 18.29%\n",
            "Generation 35: Best Fitness = 0.00762, Green Wave Efficiency = 17.82%\n",
            "Generation 36: Best Fitness = 0.00782, Green Wave Efficiency = 17.38%\n",
            "Generation 37: Best Fitness = 0.00741, Green Wave Efficiency = 17.67%\n",
            "Generation 38: Best Fitness = 0.00739, Green Wave Efficiency = 17.31%\n",
            "Generation 39: Best Fitness = 0.00768, Green Wave Efficiency = 17.51%\n",
            "Generation 40: Best Fitness = 0.00771, Green Wave Efficiency = 17.69%\n",
            "Generation 41: Best Fitness = 0.00747, Green Wave Efficiency = 18.36%\n",
            "Generation 42: Best Fitness = 0.00750, Green Wave Efficiency = 17.80%\n",
            "Generation 43: Best Fitness = 0.00745, Green Wave Efficiency = 17.71%\n",
            "Generation 44: Best Fitness = 0.00752, Green Wave Efficiency = 17.93%\n",
            "Generation 45: Best Fitness = 0.00775, Green Wave Efficiency = 17.56%\n",
            "Generation 46: Best Fitness = 0.00778, Green Wave Efficiency = 17.11%\n",
            "Generation 47: Best Fitness = 0.00745, Green Wave Efficiency = 17.84%\n",
            "Generation 48: Best Fitness = 0.00775, Green Wave Efficiency = 16.91%\n",
            "Generation 49: Best Fitness = 0.00763, Green Wave Efficiency = 17.58%\n"
          ]
        },
        {
          "output_type": "display_data",
          "data": {
            "text/plain": [
              "<Figure size 1000x500 with 1 Axes>"
            ],
            "image/png": "[encoded data removed]"
          },
          "metadata": {}
        },
        {
          "output_type": "stream",
          "name": "stdout",
          "text": [
            "Junction 0 → Green: 56s, Yellow: 5s, Red_Stop: 3s, Red Time: 57s\n",
            "Junction 1 → Green: 63s, Yellow: 2s, Red_Stop: 3s, Red Time: 86s\n",
            "Junction 2 → Green: 32s, Yellow: 6s, Red_Stop: 4s, Red Time: 52s\n",
            "Junction 3 → Green: 49s, Yellow: 4s, Red_Stop: 3s, Red Time: 54s\n",
            "Junction 4 → Green: 43s, Yellow: 7s, Red_Stop: 5s, Red Time: 42s\n",
            "Junction 5 → Green: 74s, Yellow: 7s, Red_Stop: 3s, Red Time: 64s\n",
            "Junction 6 → Green: 54s, Yellow: 4s, Red_Stop: 3s, Red Time: 84s\n",
            "Junction 7 → Green: 58s, Yellow: 2s, Red_Stop: 3s, Red Time: 84s\n",
            "Junction 8 → Green: 46s, Yellow: 6s, Red_Stop: 4s, Red Time: 64s\n",
            "Junction 9 → Green: 47s, Yellow: 4s, Red_Stop: 3s, Red Time: 56s\n"
          ]
        }
      ]
    },
    {
      "cell_type": "markdown",
      "source": [
        "# Results and Conclusions\n",
        "- **Improved Green Wave Efficiency:** The genetic algorithm successfully optimized traffic lights, leading to a smoother flow of vehicles.\n",
        "- **Reduced Traffic Stops:** The final configurations significantly lowered the number of stops compared to initial random settings.\n",
        "- **Visualization of Improvement:** The fitness evolution plot shows steady improvement over generations."
      ],
      "metadata": {
        "id": "LuPVbSVT6UGZ"
      },
      "id": "LuPVbSVT6UGZ"
    }
  ],
  "metadata": {
    "kernelspec": {
      "display_name": "Python 3",
      "language": "python",
      "name": "python3"
    },
    "language_info": {
      "codemirror_mode": {
        "name": "ipython",
        "version": 2
      },
      "file_extension": ".py",
      "mimetype": "text/x-python",
      "name": "python",
      "nbconvert_exporter": "python",
      "pygments_lexer": "ipython2",
      "version": "2.7.6"
    },
    "colab": {
      "provenance": [],
      "toc_visible": true
    }
  },
  "nbformat": 4,
  "nbformat_minor": 5
}