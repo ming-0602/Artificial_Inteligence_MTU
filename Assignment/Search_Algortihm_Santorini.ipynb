{
 "cells": [
  {
   "metadata": {},
   "cell_type": "markdown",
   "source": [
    "## Description of the Game :Santorini\n",
    "\n",
    "Santorini is a two-player abstract strategy game where players take turns moving their workers and building structures on a 5x5 grid. Each player controls two workers, and the goal is to move one worker to a building of height 3, winning immediately.\n",
    "A turn consists of two phases:\n",
    "- moving a worker to an adjacent space (up to one level higher, not occupied, and not domed)\n",
    "- building on an adjacent empty space (increasing its height by 1, up to a dome at height 4)\n",
    "\n",
    "If a player cannot move and build, they lose. The game combines spatial strategy with height-based objectives, making it ideal for a search tree implementation.\n",
    "https://www.youtube.com/watch?v=NLZXuqV7HF4&ab_channel=TheBoard%26Barrel\n",
    "\n"
   ],
   "id": "57fea6575b17a5b1"
  },
  {
   "metadata": {},
   "cell_type": "markdown",
   "source": [
    "### Current Board\n",
    "The CurrentBoard represents the game state, a 5x5 grid where each cell tracks height (0-4) and worker ownership (0=none, 1=Player 1, 2=Player 2). It Contains multiple functions.\n",
    "\n",
    "state_of_board()\n",
    "-state_of_board(): Returns \"U\" (unfinished), \"D\" (draw), \"W1\" (Player 1 wins), or \"W2\" (Player 2 wins), consolidating is_win(), winning_player(), and is_draw() to meet the template’s requirement.\n",
    "\n",
    "all_possible_moves(player)\n",
    "- Returns a list of move tuples (wx, wy, nx, ny, bx, by) (worker start, move to, build at), deviating from the template’s board-instance output to work with apply_move() and the GUI.\n",
    "\n",
    "apply_move(move, player)\n",
    "- Applies a move tuple, creating a new board instance (used instead of direct board returns in all_possible_moves()).\n",
    "\n",
    "is_win(move=None)\n",
    "- Checks if a move reaches level 3 or any worker is on level 3.\n",
    "\n",
    "winning_player()\n",
    "- Returns the winning player (1 or 2) or 0 if none.\n",
    "\n",
    "is_draw()\n",
    "- True if no moves exist for either player.\n",
    "\n",
    "evaluate(player)\n",
    "- Rewards height (10/level), mobility (5/move advantage), level 2 proximity to win (+30), center control (+3), and blocking (+5 near opponent). Terminal states get ±1000, ensuring wins/losses exceed non-terminal evaluations, as the template suggests.\n",
    "\n",
    "Santorini search tree is very large and moves can goes up to 128 move-build pairs per turn with 2 works. Thus, an evalution function and depth limiting are essential, integrated with state_of_borad() for utility assignment in SearchTreeNode.\n",
    "\n"
   ],
   "id": "1f62bf2a03f65aa0"
  },
  {
   "metadata": {},
   "cell_type": "markdown",
   "source": [
    "## SearchTreeNode\n",
    "\n",
    "The SearchTreeNode class builds the search tree with minimax and alpha-beta pruning, adjusted for Santorini’s complexity.\n",
    "\n",
    "get_dynamic_depth()\n",
    "- Sets max depth (2, 3, or 4) based on move count (e.g., 2 if >15 moves), addressing the template’s concern about large trees.\n",
    "\n",
    "generate_children\n",
    "- Creates nodes for each move from all_possible_moves(), sorting by evaluation for efficiency.\n",
    "\n",
    "minimax_value(alpha, beta)\n",
    "- Uses alpha-beta pruning (beyond template’s basic minimax) to compute node values, returning ±1000 for wins/losses or evaluation at max depth.\n",
    "\n",
    "best_move()\n",
    "- Selects the optimal move after minimax, used by the AI."
   ],
   "id": "b23d2bb236a60e1e"
  },
  {
   "metadata": {},
   "cell_type": "markdown",
   "source": [
    "## Gameplay\n",
    "\n",
    "The game is implemented using tkinter for interactive experience\n",
    "\n",
    "- Players choose to be Player 1 or 2 via a dialog. The board is a 5x5 grid with clickable cells.\n",
    "- Human players left-click to select a worker, move, and build (green/yellow highlights guide steps), with right-click to deselect. The AI uses SearchTreeNode to compute its move.\n",
    "- Checked via state_of_board() after each turn, displaying win/draw messages.\n",
    "\n"
   ],
   "id": "d1cf48d07fd59876"
  },
  {
   "metadata": {},
   "cell_type": "markdown",
   "source": [
    "## Testing and Evaluation\n",
    "\n",
    "- Played as Player 1 and 2 against the AI in the GUI.\n",
    "Result:\n",
    "- The AI consistently blocks the human player from reaching level 3 by building around opponents or reducing their mobility.\n",
    "- It rarely wins itself, often stalling the game until a draw (no moves left) or losing if the human outmaneuvers it.\n",
    "\n",
    "Performance: \n",
    "Move computation takes 1-3 seconds with dynamic depth (2-4), reasonable but suggesting depth may limit strategic planning."
   ],
   "id": "2ae77058a9aceabe"
  }
 ],
 "metadata": {
  "kernelspec": {
   "display_name": "Python 3",
   "language": "python",
   "name": "python3"
  },
  "language_info": {
   "codemirror_mode": {
    "name": "ipython",
    "version": 2
   },
   "file_extension": ".py",
   "mimetype": "text/x-python",
   "name": "python",
   "nbconvert_exporter": "python",
   "pygments_lexer": "ipython2",
   "version": "2.7.6"
  }
 },
 "nbformat": 4,
 "nbformat_minor": 5
}
