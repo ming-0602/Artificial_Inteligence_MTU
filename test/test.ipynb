{
 "cells": [
  {
   "cell_type": "code",
   "id": "initial_id",
   "metadata": {
    "collapsed": true,
    "ExecuteTime": {
     "end_time": "2025-03-24T10:31:41.766824Z",
     "start_time": "2025-03-24T10:31:40.549732Z"
    }
   },
   "source": [
    "import pandas as pd\n",
    "\n",
    "# Load your CSV file\n",
    "df = pd.read_csv(\"../data/sp500_stocks.csv\")  # Replace with your file name\n",
    "\n",
    "# Keep rows where at least one column OTHER than 'symbol' is NOT null\n",
    "filtered_df = df[df.drop(columns=['Symbol']).notnull().any(axis=1)]\n",
    "\n",
    "# Get unique values from the 'symbol' column in the filtered rows\n",
    "unique_symbols = filtered_df['Symbol'].dropna().unique()\n",
    "\n",
    "# Show the unique symbols\n",
    "print(\"Unique symbols (with non-null associated data):\")\n",
    "print(unique_symbols)\n",
    "\n"
   ],
   "outputs": [
    {
     "name": "stdout",
     "output_type": "stream",
     "text": [
      "Unique symbols (with non-null associated data):\n",
      "['MMM' 'AOS' 'ABT' 'ABBV' 'ACN' 'ADBE' 'AMD' 'AES' 'AFL' 'A' 'APD' 'ABNB'\n",
      " 'AKAM' 'ALB' 'ARE' 'ALGN' 'ALLE' 'LNT' 'ALL' 'GOOGL' 'GOOG' 'MO' 'AMZN'\n",
      " 'AMCR' 'AMTM' 'AEE' 'AEP' 'AXP' 'AIG' 'AMT' 'AWK' 'AMP' 'AME' 'AMGN'\n",
      " 'APH' 'ADI' 'ANSS' 'AON' 'APA' 'AAPL' 'AMAT' 'APTV' 'ACGL' 'ADM' 'ANET'\n",
      " 'AJG' 'AIZ' 'T' 'ATO' 'ADSK' 'ADP' 'AZO' 'AVB' 'AVY' 'AXON' 'BKR' 'BALL'\n",
      " 'BAC' 'BAX' 'BDX' 'BRK-B' 'BBY' 'TECH' 'BIIB' 'BLK' 'BX' 'BK' 'BA' 'BKNG'\n",
      " 'BWA' 'BSX' 'BMY' 'AVGO' 'BR' 'BRO' 'BF-B' 'BLDR' 'BG' 'BXP' 'CHRW'\n",
      " 'CDNS' 'CZR' 'CPT' 'CPB' 'COF' 'CAH' 'KMX' 'CCL' 'CARR' 'CAT' 'CBOE'\n",
      " 'CBRE' 'CDW' 'CE' 'COR' 'CNC' 'CNP' 'CF' 'CRL' 'SCHW' 'CHTR' 'CVX' 'CMG'\n",
      " 'CB' 'CHD' 'CI' 'CINF' 'CTAS' 'CSCO' 'C' 'CFG' 'CLX' 'CME' 'CMS' 'KO'\n",
      " 'CTSH' 'CL' 'CMCSA' 'CAG' 'COP' 'ED' 'STZ' 'CEG' 'COO' 'CPRT' 'GLW'\n",
      " 'CPAY' 'CTVA' 'CSGP' 'COST' 'CTRA' 'CRWD' 'CCI' 'CSX' 'CMI' 'CVS' 'DHR'\n",
      " 'DRI' 'DVA' 'DAY' 'DECK' 'DE' 'DELL' 'DAL' 'DVN' 'DXCM' 'FANG' 'DLR'\n",
      " 'DFS' 'DG' 'DLTR' 'D' 'DPZ' 'DOV' 'DOW' 'DHI' 'DTE' 'DUK' 'DD' 'EMN'\n",
      " 'ETN' 'EBAY' 'ECL' 'EIX' 'EW' 'EA' 'ELV' 'EMR' 'ENPH' 'ETR' 'EOG' 'EPAM'\n",
      " 'EQT' 'EFX' 'EQIX' 'EQR' 'ERIE' 'ESS' 'EL' 'EG' 'EVRG' 'ES' 'EXC' 'EXPE'\n",
      " 'EXPD' 'EXR' 'XOM' 'FFIV' 'FDS' 'FICO' 'FAST' 'FRT' 'FDX' 'FIS' 'FITB'\n",
      " 'FSLR' 'FE' 'FI' 'FMC' 'F' 'FTNT' 'FTV' 'FOXA' 'FOX' 'BEN' 'FCX' 'GRMN'\n",
      " 'IT' 'GE' 'GEHC' 'GEV' 'GEN' 'GNRC' 'GD' 'GIS' 'GM' 'GPC' 'GILD' 'GPN'\n",
      " 'GL' 'GDDY' 'GS' 'HAL' 'HIG' 'HAS' 'HCA' 'DOC' 'HSIC' 'HSY' 'HES' 'HPE'\n",
      " 'HLT' 'HOLX' 'HD' 'HON' 'HRL' 'HST' 'HWM' 'HPQ' 'HUBB' 'HUM' 'HBAN' 'HII'\n",
      " 'IBM' 'IEX' 'IDXX' 'ITW' 'INCY' 'IR' 'PODD' 'INTC' 'ICE' 'IFF' 'IP' 'IPG'\n",
      " 'INTU' 'ISRG' 'IVZ' 'INVH' 'IQV' 'IRM' 'JBHT' 'JBL' 'JKHY' 'J' 'JNJ'\n",
      " 'JCI' 'JPM' 'JNPR' 'K' 'KVUE' 'KDP' 'KEY' 'KEYS' 'KMB' 'KIM' 'KMI' 'KKR'\n",
      " 'KLAC' 'KHC' 'KR' 'LHX' 'LH' 'LRCX' 'LW' 'LVS' 'LDOS' 'LEN' 'LLY' 'LIN'\n",
      " 'LYV' 'LKQ' 'LMT' 'L' 'LOW' 'LULU' 'LYB' 'MTB' 'MPC' 'MKTX' 'MAR' 'MMC'\n",
      " 'MLM' 'MAS' 'MA' 'MTCH' 'MKC' 'MCD' 'MCK' 'MDT' 'MRK' 'META' 'MET' 'MTD'\n",
      " 'MGM' 'MCHP' 'MU' 'MSFT' 'MAA' 'MRNA' 'MHK' 'MOH' 'TAP' 'MDLZ' 'MPWR'\n",
      " 'MNST' 'MCO' 'MS' 'MOS' 'MSI' 'MSCI' 'NDAQ' 'NTAP' 'NFLX' 'NEM' 'NWSA'\n",
      " 'NWS' 'NEE' 'NKE' 'NI' 'NDSN' 'NSC' 'NTRS' 'NOC' 'NCLH' 'NRG' 'NUE'\n",
      " 'NVDA' 'NVR' 'NXPI' 'ORLY' 'OXY' 'ODFL' 'OMC' 'ON' 'OKE' 'ORCL' 'OTIS'\n",
      " 'PCAR' 'PKG' 'PLTR' 'PANW' 'PARA' 'PH' 'PAYX' 'PAYC' 'PYPL' 'PNR' 'PEP'\n",
      " 'PFE' 'PCG' 'PM' 'PSX' 'PNW' 'PNC' 'POOL' 'PPG' 'PPL' 'PFG' 'PG' 'PGR'\n",
      " 'PLD' 'PRU' 'PEG' 'PTC' 'PSA' 'PHM' 'QRVO' 'PWR' 'QCOM' 'DGX' 'RL' 'RJF'\n",
      " 'RTX' 'O' 'REG' 'REGN' 'RF' 'RSG' 'RMD' 'RVTY' 'ROK' 'ROL' 'ROP' 'ROST'\n",
      " 'RCL' 'SPGI' 'CRM' 'SBAC' 'SLB' 'STX' 'SRE' 'NOW' 'SHW' 'SPG' 'SWKS'\n",
      " 'SJM' 'SW' 'SNA' 'SOLV' 'SO' 'LUV' 'SWK' 'SBUX' 'STT' 'STLD' 'STE' 'SYK'\n",
      " 'SMCI' 'SYF' 'SNPS' 'SYY' 'TMUS' 'TROW' 'TTWO' 'TPR' 'TRGP' 'TGT' 'TEL'\n",
      " 'TDY' 'TFX' 'TER' 'TSLA' 'TXN' 'TPL' 'TXT' 'TMO' 'TJX' 'TSCO' 'TT' 'TDG'\n",
      " 'TRV' 'TRMB' 'TFC' 'TYL' 'TSN' 'USB' 'UBER' 'UDR' 'ULTA' 'UNP' 'UAL'\n",
      " 'UPS' 'URI' 'UNH' 'UHS' 'VLO' 'VTR' 'VLTO' 'VRSN' 'VRSK' 'VZ' 'VRTX'\n",
      " 'VTRS' 'VICI' 'V' 'VST' 'VMC' 'WRB' 'GWW' 'WAB' 'WBA' 'WMT' 'DIS' 'WBD'\n",
      " 'WM' 'WAT' 'WEC' 'WFC' 'WELL' 'WST' 'WDC' 'WY' 'WMB' 'WTW' 'WYNN' 'XEL'\n",
      " 'XYL' 'YUM' 'ZBRA' 'ZBH' 'ZTS']\n"
     ]
    }
   ],
   "execution_count": 4
  }
 ],
 "metadata": {
  "kernelspec": {
   "display_name": "Python 3",
   "language": "python",
   "name": "python3"
  },
  "language_info": {
   "codemirror_mode": {
    "name": "ipython",
    "version": 2
   },
   "file_extension": ".py",
   "mimetype": "text/x-python",
   "name": "python",
   "nbconvert_exporter": "python",
   "pygments_lexer": "ipython2",
   "version": "2.7.6"
  }
 },
 "nbformat": 4,
 "nbformat_minor": 5
}
